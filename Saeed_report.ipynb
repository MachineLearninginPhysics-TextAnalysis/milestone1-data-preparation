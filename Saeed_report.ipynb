{
  "nbformat": 4,
  "nbformat_minor": 0,
  "metadata": {
    "colab": {
      "name": "stream_user_timeline_fold_in_lsi_topics.ipynb",
      "provenance": [],
      "toc_visible": true
    },
    "kernelspec": {
      "name": "pythonjvsc74a57bd03664346d1f0019af0e5c969b3ecddce222b26e81abc0bb3df58369e247ba0050",
      "display_name": "Python 3.7.3  ('.venv': venv)"
    },
    "language_info": {
      "name": "python",
      "version": "3.7.3"
    },
    "metadata": {
      "interpreter": {
        "hash": "3664346d1f0019af0e5c969b3ecddce222b26e81abc0bb3df58369e247ba0050"
      }
    }
  },
  "cells": [
    {
      "cell_type": "code",
      "metadata": {
        "id": "Cdkp8Zkr4N3O"
      },
      "source": [
        "import logging\n",
        "logging.basicConfig(format='%(asctime)s : %(levelname)s : %(message)s',\n",
        "                    level=logging.INFO)"
      ],
      "execution_count": 1,
      "outputs": []
    },
    {
      "source": [
        "Fill in your keys to access Twitter API"
      ],
      "cell_type": "markdown",
      "metadata": {}
    },
    {
      "cell_type": "code",
      "metadata": {
        "id": "2ISY1HBmxu_R"
      },
      "source": [
        "import tweepy as tw\n",
        "\n",
        "# define keys\n",
        "consumer_key= 'gEJhQtgiIvxzNB50u4JPic8f4'\n",
        "consumer_secret= 'iEfTG65lFX8cAzKJ4QIhJklvuh3tfWdaRAAWO3b17082dZaSiu'\n",
        "access_token= '1369691334051852293-IGWGrIUKFY6rTwmrA5WD3YLkJrlUk5'\n",
        "access_token_secret= '7ftmxYiYnso7PNkPOWOWKCkNrguFFMhwwPTHhQ6bFVvgG'\n",
        "# authenticate and create api object\n",
        "auth = tw.OAuthHandler(consumer_key, consumer_secret)\n",
        "auth.set_access_token(access_token, access_token_secret)\n",
        "api = tw.API(auth, wait_on_rate_limit=True)"
      ],
      "execution_count": 1,
      "outputs": []
    },
    {
      "source": [
        "First of all, just to see the texts data and getting to know *tokenization* and *cleaning data*, we give [`tweepy.API.user_timeline`](https://docs.tweepy.org/en/v3.5.0/api.html#API.user_timeline) method to the [`tweepy.Cursor`](https://docs.tweepy.org/en/v3.4.0/cursor_tutorial.html#cursor-tutorial) object for iterating through a specific user's timeline. In this case, one [twitter user](https://twitter.com/indykaila) who tweets about football news is considered, with excluding replies and retweets.\n",
        "\n",
        "A brief cleaning data is executed. This contains removing *links* and some *puctuations* from tweets (= `status.full_text`).\n",
        "\n",
        "Let's iterate through first page of user's timeline, print *tweet* & *not cleaned tokenized tweet* & *cleaned tokenized tweet* for each status:\n",
        "\n",
        "> **Note**: we look at all texts lowercased."
      ],
      "cell_type": "markdown",
      "metadata": {}
    },
    {
      "source": [
        "import re\n",
        "\n",
        "# just see how iterate through first user's timeline pages with cursor\n",
        "for page in tw.Cursor(api.user_timeline,\n",
        "                      id=\"indykaila\", exclude_replies=True,\n",
        "                      include_rts=False, tweet_mode='extended').pages(1):\n",
        "    for status in page:\n",
        "        # cleaning documents (remove links and punctuations) to raw texts\n",
        "        print(status.full_text)\n",
        "        print(status.full_text.lower().split())\n",
        "        # replacing links with an empty character\n",
        "        link_removed = re.sub(r'\\bhttps:\\S+', '', status.full_text.lower())\n",
        "        # replacing punctuations with a whitespace\n",
        "        punc_link_removed = re.sub(r'[–,-.!\":]\\D', ' ', link_removed)\n",
        "        print(punc_link_removed.split(), '\\n---')"
      ],
      "cell_type": "code",
      "metadata": {
        "id": "SSYE-cpK_6wU"
      },
      "execution_count": 3,
      "outputs": [
        {
          "output_type": "stream",
          "name": "stdout",
          "text": [
            "Statement: Chelsea FC is disgusted with posts on social media this evening targeting West Bromwich Albion player Callum Robinson. #CFC\n['statement:', 'chelsea', 'fc', 'is', 'disgusted', 'with', 'posts', 'on', 'social', 'media', 'this', 'evening', 'targeting', 'west', 'bromwich', 'albion', 'player', 'callum', 'robinson.', '#cfc']\n['statement', 'chelsea', 'fc', 'is', 'disgusted', 'with', 'posts', 'on', 'social', 'media', 'this', 'evening', 'targeting', 'west', 'bromwich', 'albion', 'player', 'callum', 'robinson', '#cfc'] \n---\nDavid Luiz could need surgery #AFC\n['david', 'luiz', 'could', 'need', 'surgery', '#afc']\n['david', 'luiz', 'could', 'need', 'surgery', '#afc'] \n---\nConfirmed: Liverpool will meet with Erling Haaland's representatives on Friday #LFC\n['confirmed:', 'liverpool', 'will', 'meet', 'with', 'erling', \"haaland's\", 'representatives', 'on', 'friday', '#lfc']\n['confirmed', 'liverpool', 'will', 'meet', 'with', 'erling', \"haaland's\", 'representatives', 'on', 'friday', '#lfc'] \n---\nThe mind blowing licence to be announced by @ecomi_. Well played @vevecollectible. The company in great hands. #OMI\n['the', 'mind', 'blowing', 'licence', 'to', 'be', 'announced', 'by', '@ecomi_.', 'well', 'played', '@vevecollectible.', 'the', 'company', 'in', 'great', 'hands.', '#omi']\n['the', 'mind', 'blowing', 'licence', 'to', 'be', 'announced', 'by', '@ecomi_', 'well', 'played', '@vevecollectible', 'the', 'company', 'in', 'great', 'hands', '#omi'] \n---\nSergio Ramos set to be out for a month due to injury. #LFC\n['sergio', 'ramos', 'set', 'to', 'be', 'out', 'for', 'a', 'month', 'due', 'to', 'injury.', '#lfc']\n['sergio', 'ramos', 'set', 'to', 'be', 'out', 'for', 'a', 'month', 'due', 'to', 'injury', '#lfc'] \n---\nBayern Munich have confirmed Robert Lewandowski will be out for 4 weeks with a knee injury.\n['bayern', 'munich', 'have', 'confirmed', 'robert', 'lewandowski', 'will', 'be', 'out', 'for', '4', 'weeks', 'with', 'a', 'knee', 'injury.']\n['bayern', 'munich', 'have', 'confirmed', 'robert', 'lewandowski', 'will', 'be', 'out', 'for', '4', 'weeks', 'with', 'a', 'knee', 'injury.'] \n---\nSergio Aguero has been advised by his public relations team not to move to @ChelseaFC. \n\n@FCBarcelona are leading the race. Talks to start next week with the Spanish club.\n['sergio', 'aguero', 'has', 'been', 'advised', 'by', 'his', 'public', 'relations', 'team', 'not', 'to', 'move', 'to', '@chelseafc.', '@fcbarcelona', 'are', 'leading', 'the', 'race.', 'talks', 'to', 'start', 'next', 'week', 'with', 'the', 'spanish', 'club.']\n['sergio', 'aguero', 'has', 'been', 'advised', 'by', 'his', 'public', 'relations', 'team', 'not', 'to', 'move', 'to', '@chelseafc', '@fcbarcelona', 'are', 'leading', 'the', 'race', 'talks', 'to', 'start', 'next', 'week', 'with', 'the', 'spanish', 'club.'] \n---\nIf you want to make some extra money tomorrow give @BetcIub a follow! They have some huge Winners 💷 #Ad https://t.co/MSgTiHMWdy\n['if', 'you', 'want', 'to', 'make', 'some', 'extra', 'money', 'tomorrow', 'give', '@betciub', 'a', 'follow!', 'they', 'have', 'some', 'huge', 'winners', '💷', '#ad', 'https://t.co/msgtihmwdy']\n['if', 'you', 'want', 'to', 'make', 'some', 'extra', 'money', 'tomorrow', 'give', '@betciub', 'a', 'follow', 'they', 'have', 'some', 'huge', 'winners', '💷', '#ad'] \n---\n"
          ]
        }
      ]
    },
    {
      "cell_type": "markdown",
      "metadata": {
        "id": "PZRTny0gDR8a"
      },
      "source": [
        "# Corpora"
      ]
    },
    {
      "source": [
        "We define a class object to *stream* the corpus, by stream this means iterating through the corpus as a generator object. Streaming help us not to save corpora in RAM and make the programm memory-friendly. [**Gensim**](https://radimrehurek.com/gensim/index.html) python library deals with such corpus classes and allows you create documents on the fly.\n",
        "\n",
        "There's a simple and particular class defined. For now only `tweepy.API.user_timeline` method is available in this class. We can add some other [api wrapper's methods](https://docs.tweepy.org/en/v3.4.0/api.html#tweepy-api-twitter-api-wrapper) for various uses and initiate class object with them in the `tweepy.Cursor` object. Also we can control method's parameters (like `id` for `tweepy.API.user_timeline`) with the `tweepy.Cursor` object in the instantiation."
      ],
      "cell_type": "markdown",
      "metadata": {}
    },
    {
      "source": [
        "class MyTexts:\n",
        "    \"\"\"Implement a class object to iterate on a specific user timeline.\n",
        "    This class define an iterator as a generator function\n",
        "    which yield cleaned text (removed links and punctuations) tokenized\"\"\"\n",
        "    def __init__(self, pagination_num=3):\n",
        "        self.pagination_num = pagination_num\n",
        "        # cursor on user's timeline\n",
        "        self.cursor = tw.Cursor(api.user_timeline, id=\"indykaila\",\n",
        "                              exclude_replies=True, include_rts=False,\n",
        "                              tweet_mode='extended').pages(self.pagination_num)\n",
        "    def __iter__(self):\n",
        "        for page in self.cursor:\n",
        "            for status in page:\n",
        "                # cleaning: removing links and some punctuations\n",
        "                link_removed = re.sub(r'\\bhttps:\\S+', '', status.full_text.lower())\n",
        "                punc_link_removed = re.sub(r'[–,-.!\":]\\D', ' ', link_removed)\n",
        "                yield punc_link_removed.split()"
      ],
      "cell_type": "code",
      "metadata": {
        "id": "32uHaNm9TTHJ"
      },
      "execution_count": 4,
      "outputs": []
    },
    {
      "cell_type": "code",
      "execution_count": 5,
      "metadata": {},
      "outputs": [
        {
          "output_type": "execute_result",
          "data": {
            "text/plain": [
              "<generator object MyTexts.__iter__ at 0x7fe93084ea20>"
            ]
          },
          "metadata": {},
          "execution_count": 5
        }
      ],
      "source": [
        "MyTexts().__iter__()"
      ]
    },
    {
      "cell_type": "markdown",
      "metadata": {
        "id": "eVWYqLhpDgR9"
      },
      "source": [
        "> **Collect statistics about corpus and preprocess it**\n",
        "\n",
        "We can collect statistics about all tokens by creating **dictionaries** as a [`gensim.corpora.Dictionary` class object](https://radimrehurek.com/gensim/corpora/dictionary.html#module-gensim.corpora.dictionary). For *preprocessing* the corpus, we just remove *stop words* and *once words* from dictionary. Stopwords are the words which frequenctly will be used in sentences (like for, of , a, and, etc.) with no special semantics in this stage. Once words are the words which are used once in the corpus and can be ignored. For filtering these tokens we obtain their ids from dictionary and filter them out.\n",
        "\n",
        "With having dictionary object for a corpus, we can convert tokenized *documents* to vectors in **BoW representation**. Documents could be tweets, which here is considered so.\n",
        "\n",
        "Here we consider 100 first page of user's timeline as the whole corpus.\n",
        "\n",
        "At the end, we save the dictionary into disk for possible later use."
      ]
    },
    {
      "cell_type": "code",
      "execution_count": 7,
      "metadata": {},
      "outputs": [
        {
          "output_type": "stream",
          "name": "stderr",
          "text": [
            "/Users/saeedentezari/Documents/GitHub/milestone1-data-preparation/.venv/lib/python3.7/site-packages/gensim/similarities/__init__.py:15: UserWarning: The gensim.similarities.levenshtein submodule is disabled, because the optional Levenshtein package <https://pypi.org/project/python-Levenshtein/> is unavailable. Install Levenhstein (e.g. `pip install python-Levenshtein`) to suppress this warning.\n",
            "  warnings.warn(msg)\n",
            "2021-04-04 04:49:08,726 : INFO : adding document #0 to Dictionary(0 unique tokens: [])\n",
            "2021-04-04 04:54:59,862 : INFO : built Dictionary(3620 unique tokens: ['#cfc', 'albion', 'bromwich', 'callum', 'chelsea']...) from 1202 documents (total 19581 corpus positions)\n",
            "2021-04-04 04:54:59,889 : INFO : Dictionary lifecycle event {'msg': \"built Dictionary(3620 unique tokens: ['#cfc', 'albion', 'bromwich', 'callum', 'chelsea']...) from 1202 documents (total 19581 corpus positions)\", 'datetime': '2021-04-04T04:54:59.863224', 'gensim': '4.0.1', 'python': '3.7.3 (default, Mar 27 2019, 16:54:48) \\n[Clang 4.0.1 (tags/RELEASE_401/final)]', 'platform': 'Darwin-19.6.0-x86_64-i386-64bit', 'event': 'created'}\n",
            "2021-04-04 04:54:59,896 : INFO : Dictionary lifecycle event {'fname_or_handle': 'dictionary.dict', 'separately': 'None', 'sep_limit': 10485760, 'ignore': frozenset(), 'datetime': '2021-04-04T04:54:59.896392', 'gensim': '4.0.1', 'python': '3.7.3 (default, Mar 27 2019, 16:54:48) \\n[Clang 4.0.1 (tags/RELEASE_401/final)]', 'platform': 'Darwin-19.6.0-x86_64-i386-64bit', 'event': 'saving'}\n",
            "2021-04-04 04:54:59,900 : INFO : saved dictionary.dict\n"
          ]
        }
      ],
      "source": [
        "from gensim import corpora\n",
        "\n",
        "texts = MyTexts(100)  # define corpus streamable object\n",
        "# collect statistics about tokens into dictionary\n",
        "dictionary = corpora.Dictionary(texts)\n",
        "# preprocess: remove stop words and only once words from dictionary\n",
        "stop_words = set('for of a an and the to in on at with is are'.split())\n",
        "stop_word_ids = [dictionary.token2id[stopword]\n",
        "                 for stopword in stop_words\n",
        "                 if stopword in dictionary.token2id]\n",
        "once_word_ids = [tokenid\n",
        "                 for tokenid, docfreq in dictionary.dfs.items()\n",
        "                 if docfreq == 1]\n",
        "dictionary.filter_tokens(stop_word_ids + once_word_ids)\n",
        "dictionary.compactify()\n",
        "# store the dictionary\n",
        "dictionary.save('dictionary.dict')"
      ]
    },
    {
      "cell_type": "code",
      "execution_count": 8,
      "metadata": {},
      "outputs": [
        {
          "output_type": "stream",
          "name": "stdout",
          "text": [
            "Dictionary(1613 unique tokens: ['#cfc', 'callum', 'chelsea', 'disgusted', 'evening']...)\n"
          ]
        }
      ],
      "source": [
        "print(dictionary)"
      ]
    },
    {
      "source": [
        "With `dfs` attribute in `dictionary` object, you can see the *document frequencies*: token_id -> how many documents contain this token"
      ],
      "cell_type": "markdown",
      "metadata": {}
    },
    {
      "source": [
        "# dictionary.dfs"
      ],
      "cell_type": "code",
      "metadata": {},
      "execution_count": 3,
      "outputs": []
    },
    {
      "source": [
        "> **Building training corpus**\n",
        "\n",
        "Now that we have a dictionary, we can select our training corpus and vectorize it's documents in BoW representation. For this purpose, I choosed 10 first page of user's timeline for training corpus, building a generator to yield `dictionary.doc2bow(text)` for each `text` (= tweet) in `train_text` (= training corpus as texts), and store training corpus in BoW (= `train_corpus_bow`) to a file named 'train_corpus_bow.mm' with `gensim.corpora.MmCorpus.serialize` method in [`gensim.corpora.MmCorpus` class](https://radimrehurek.com/gensim/corpora/mmcorpus.html#module-gensim.corpora.mmcorpus). Corpus serialized using the sparse coordinate [Matrix Market (.mm) format](https://math.nist.gov/MatrixMarket/formats.html).\n",
        "\n",
        "> **Note**: Every document's token that is not in the dictionary is a \"blah\" for `gensim.corpora.Dictionary.doc2bow` method and would'nt count in document's BoW representation."
      ],
      "cell_type": "markdown",
      "metadata": {}
    },
    {
      "cell_type": "code",
      "execution_count": 10,
      "metadata": {},
      "outputs": [
        {
          "output_type": "stream",
          "name": "stderr",
          "text": [
            "2021-04-04 04:56:15,345 : INFO : storing corpus in Matrix Market format to train_corpus_bow.mm\n",
            "2021-04-04 04:56:15,372 : INFO : saving sparse matrix to train_corpus_bow.mm\n",
            "2021-04-04 04:56:18,804 : INFO : PROGRESS: saving document #0\n",
            "2021-04-04 04:56:50,968 : INFO : saved 104x572 matrix, density=1.952% (1161/59488)\n",
            "2021-04-04 04:56:50,970 : INFO : saving MmCorpus index to train_corpus_bow.mm.index\n"
          ]
        }
      ],
      "source": [
        "# choose 10 first page of user's timeline for training corpus\n",
        "train_texts = MyTexts(10)\n",
        "# stream on the training corpus and store it in bow representation\n",
        "train_corpus_bow = (dictionary.doc2bow(text) for text in train_texts)\n",
        "corpora.MmCorpus.serialize('train_corpus_bow.mm', train_corpus_bow)"
      ]
    },
    {
      "cell_type": "code",
      "metadata": {
        "id": "Zu0FZthg1uDE",
        "tags": []
      },
      "source": [
        "train_texts = MyTexts(10)\n",
        "train_corpus_bow = corpora.MmCorpus('train_corpus_bow.mm')\n",
        "for count, (tweet_bow, tweet_text) in enumerate(zip(train_corpus_bow, train_texts)):\n",
        "    print(tweet_bow, tweet_text, '\\n---')\n",
        "    if count == 5: break"
      ],
      "execution_count": 11,
      "outputs": [
        {
          "output_type": "stream",
          "name": "stderr",
          "text": [
            "2021-04-04 04:57:32,765 : INFO : loaded corpus index from train_corpus_bow.mm.index\n",
            "2021-04-04 04:57:32,774 : INFO : initializing cython corpus reader from train_corpus_bow.mm\n",
            "2021-04-04 04:57:32,788 : INFO : accepted corpus with 104 documents, 572 features, 1161 non-zero entries\n",
            "[(0, 1.0), (1, 1.0), (2, 1.0), (3, 1.0), (4, 1.0), (5, 1.0), (6, 1.0), (7, 1.0), (8, 1.0), (9, 1.0), (10, 1.0), (11, 1.0), (12, 1.0), (13, 1.0)] ['statement', 'chelsea', 'fc', 'is', 'disgusted', 'with', 'posts', 'on', 'social', 'media', 'this', 'evening', 'targeting', 'west', 'bromwich', 'albion', 'player', 'callum', 'robinson', '#cfc'] \n",
            "---\n",
            "[(14, 1.0), (15, 1.0), (16, 1.0), (17, 1.0), (18, 1.0), (19, 1.0)] ['david', 'luiz', 'could', 'need', 'surgery', '#afc'] \n",
            "---\n",
            "[(20, 1.0), (21, 1.0), (22, 1.0), (23, 1.0), (24, 1.0), (25, 1.0), (26, 1.0)] ['confirmed', 'liverpool', 'will', 'meet', 'with', 'erling', \"haaland's\", 'representatives', 'on', 'friday', '#lfc'] \n",
            "---\n",
            "[(27, 1.0), (28, 1.0), (29, 1.0), (30, 1.0), (31, 1.0), (32, 1.0), (33, 1.0), (34, 1.0), (35, 1.0), (36, 1.0), (37, 1.0), (38, 1.0)] ['the', 'mind', 'blowing', 'licence', 'to', 'be', 'announced', 'by', '@ecomi_', 'well', 'played', '@vevecollectible', 'the', 'company', 'in', 'great', 'hands', '#omi'] \n",
            "---\n",
            "[(20, 1.0), (30, 1.0), (39, 1.0), (40, 1.0), (41, 1.0), (42, 1.0), (43, 1.0), (44, 1.0), (45, 1.0)] ['sergio', 'ramos', 'set', 'to', 'be', 'out', 'for', 'a', 'month', 'due', 'to', 'injury', '#lfc'] \n",
            "---\n",
            "[(21, 1.0), (26, 1.0), (30, 1.0), (42, 1.0), (46, 1.0), (47, 1.0), (48, 1.0), (49, 1.0), (50, 1.0), (51, 1.0), (52, 1.0)] ['bayern', 'munich', 'have', 'confirmed', 'robert', 'lewandowski', 'will', 'be', 'out', 'for', '4', 'weeks', 'with', 'a', 'knee', 'injury.'] \n",
            "---\n"
          ]
        }
      ]
    },
    {
      "cell_type": "markdown",
      "metadata": {
        "id": "qLN3MOSAC43C"
      },
      "source": [
        "# Train the Models with Training Corpus"
      ]
    },
    {
      "source": [
        "Now that we have BoW representation of training corpus (in `train_corpus_bow`), we can *transform* it to have various representations. These tranformations would be obtained by training the *models* like **TF-IDF** and **LSI**. **Gensim** have a module `gensim.models` which contains various models such as [`gensim.models.TfidfModel`](https://radimrehurek.com/gensim/models/tfidfmodel.html#module-gensim.models.tfidfmodel) and [`gensim.models.LsiModel`](https://radimrehurek.com/gensim/models/lsimodel.html#module-gensim.models.lsimodel) class objects."
      ],
      "cell_type": "markdown",
      "metadata": {}
    },
    {
      "source": [
        "First we load training corpus in BoW to be sure."
      ],
      "cell_type": "markdown",
      "metadata": {}
    },
    {
      "cell_type": "code",
      "execution_count": 12,
      "metadata": {},
      "outputs": [
        {
          "output_type": "stream",
          "name": "stderr",
          "text": [
            "2021-04-04 04:57:45,136 : INFO : loaded corpus index from train_corpus_bow.mm.index\n",
            "2021-04-04 04:57:45,159 : INFO : initializing cython corpus reader from train_corpus_bow.mm\n",
            "2021-04-04 04:57:45,181 : INFO : accepted corpus with 104 documents, 572 features, 1161 non-zero entries\n"
          ]
        }
      ],
      "source": [
        "# load training corpus in bow from disk\n",
        "train_corpus_bow = corpora.MmCorpus('train_corpus_bow.mm')"
      ]
    },
    {
      "source": [
        "Then we can initialize a tfidf model with the corpus in BoW. A TF-IDF model would be *trained* with this training corpus."
      ],
      "cell_type": "markdown",
      "metadata": {}
    },
    {
      "cell_type": "code",
      "execution_count": 13,
      "metadata": {},
      "outputs": [
        {
          "output_type": "stream",
          "name": "stderr",
          "text": [
            "2021-04-04 04:57:56,113 : INFO : collecting document frequencies\n",
            "2021-04-04 04:57:56,125 : INFO : PROGRESS: processing document #0\n",
            "2021-04-04 04:57:56,172 : INFO : TfidfModel lifecycle event {'msg': 'calculated IDF weights for 104 documents and 572 features (1161 matrix non-zeros)', 'datetime': '2021-04-04T04:57:56.172322', 'gensim': '4.0.1', 'python': '3.7.3 (default, Mar 27 2019, 16:54:48) \\n[Clang 4.0.1 (tags/RELEASE_401/final)]', 'platform': 'Darwin-19.6.0-x86_64-i386-64bit', 'event': 'initialize'}\n"
          ]
        }
      ],
      "source": [
        "from gensim import models\n",
        "\n",
        "# initialize a tfidf model with training corpus in bow: training\n",
        "tfidf_model = models.TfidfModel(train_corpus_bow)"
      ]
    },
    {
      "source": [
        "Now that you have a TF-IDF model, you can transform any documents (= wheter it's a tweet or the corpus as a whole, just everything in BoW representation) with only indexing it into the `tfidf_model` object and get the transformed vectors (= documents) in the output. So TF-IDF model transforms documents from BoW representation into Tfidf representation, this can be summarized in the notation *bow->tfidf*.\n",
        "\n",
        "> **Note**: Tranformation could be done just **after** training the model. In fact, training the model gives us a transformation model.\n",
        "\n",
        "Here I transform (bow->tfidf) the whole training corpus because I want to give the whole training corpus in Tfidf to another model for training."
      ],
      "cell_type": "markdown",
      "metadata": {}
    },
    {
      "cell_type": "code",
      "execution_count": 14,
      "metadata": {},
      "outputs": [],
      "source": [
        "# tranform training corpus bow->tfidf\n",
        "train_corpus_tfidf = tfidf_model[train_corpus_bow]"
      ]
    },
    {
      "cell_type": "code",
      "execution_count": 15,
      "metadata": {
        "tags": []
      },
      "outputs": [
        {
          "output_type": "stream",
          "name": "stdout",
          "text": [
            "[(0, 0.20305576652385546), (1, 0.2894543924822621), (2, 0.2209851013533081), (3, 0.2894543924822621), (4, 0.2894543924822621), (5, 0.2894543924822621), (6, 0.2894543924822621), (7, 0.2209851013533081), (8, 0.2894543924822621), (9, 0.2894543924822621), (10, 0.2894543924822621), (11, 0.2894543924822621), (12, 0.15251581022435406), (13, 0.2894543924822621)] ['statement', 'chelsea', 'fc', 'is', 'disgusted', 'with', 'posts', 'on', 'social', 'media', 'this', 'evening', 'targeting', 'west', 'bromwich', 'albion', 'player', 'callum', 'robinson', '#cfc'] \n---\n[(14, 0.2325356183336032), (15, 0.39234888686124225), (16, 0.4611767152851847), (17, 0.4611767152851847), (18, 0.39234888686124225), (19, 0.4611767152851847)] ['david', 'luiz', 'could', 'need', 'surgery', '#afc'] \n---\n[(20, 0.17086465762202846), (21, 0.35364733935246695), (22, 0.4604179485908612), (23, 0.541186796496686), (24, 0.2851556061823202), (25, 0.4604179485908612), (26, 0.2181114048733865)] ['confirmed', 'liverpool', 'will', 'meet', 'with', 'erling', \"haaland's\", 'representatives', 'on', 'friday', '#lfc'] \n---\n[(27, 0.24896145624540816), (28, 0.24896145624540816), (29, 0.3548925908516259), (30, 0.12597921746267218), (31, 0.301927023548517), (32, 0.16501301824055797), (33, 0.3548925908516259), (34, 0.3548925908516259), (35, 0.3548925908516259), (36, 0.2709441528467757), (37, 0.301927023548517), (38, 0.2709441528467757)] ['the', 'mind', 'blowing', 'licence', 'to', 'be', 'announced', 'by', '@ecomi_', 'well', 'played', '@vevecollectible', 'the', 'company', 'in', 'great', 'hands', '#omi'] \n---\n[(20, 0.1441938012473824), (30, 0.16212258371013036), (39, 0.34867787707672604), (40, 0.38854971586165526), (41, 0.4567110744714364), (42, 0.24064467968201572), (43, 0.4567110744714364), (44, 0.32038835725187403), (45, 0.32038835725187403)] ['sergio', 'ramos', 'set', 'to', 'be', 'out', 'for', 'a', 'month', 'due', 'to', 'injury', '#lfc'] \n---\n[(21, 0.2529354569869149), (26, 0.15599751992117789), (30, 0.13740055437589693), (42, 0.20394883698027955), (46, 0.38706732514321374), (47, 0.3292998738377048), (48, 0.18722477756884565), (49, 0.38706732514321374), (50, 0.38706732514321374), (51, 0.38706732514321374), (52, 0.3292998738377048)] ['bayern', 'munich', 'have', 'confirmed', 'robert', 'lewandowski', 'will', 'be', 'out', 'for', '4', 'weeks', 'with', 'a', 'knee', 'injury.'] \n---\n"
          ]
        }
      ],
      "source": [
        "for count, (tweet_tfidf, tweet_text) in enumerate(zip(train_corpus_tfidf, MyTexts(10))):\n",
        "    print(tweet_tfidf, tweet_text, '\\n---')\n",
        "    if count == 5: break"
      ]
    },
    {
      "source": [
        "Now that's time to give a brief description about BoW and Tfidf representations.\n",
        "\n",
        "first of all a dictionary should be created.\n",
        "\n",
        "> **BoW representation**: Any documents can have a BoW representation. *Document* could be just a word, a sentence, a tweet, a paragraph or even a book, anything which is tokenized. `gensim.corpora.Dictionary.doc2bow` method get the document as input, simultaneously looks at the dictionary and says us which words (in word ids) *there are* & how many *repetition* they have on this document, in tuples. For example, a BoW representation of a document like `[(144, 2), (8, 1)]` tells us the word associated with id = 144 repeated 2 times in this document and word id = 8 repeated only once (in **this** document).\n",
        "\n",
        "> **Tfidf representation**: TF-IDF model would be simply obtained by training. Training process would be done by looking at words in dictionary and calculate the inverse frequencies of them in the main corpus. Then Tfidf representation gives us a statistical measure that evaluates *how relevant a word is to a document in a corpus*. This is done by multplying two factors: *inverse word frequency* of the word in the whole corpus, and *how many times this word appeared in this document*. For example, suppose for the same above document, `[(144, 0.378), (8, 0.129)]` is the Tfidf representation which tells us word ids = 144 and 8 *are* in the document and their *tf-idf statistical measures* are 0.378 and 0.129 respectively. For more information you can see [tf-idf wikipedia](https://en.wikipedia.org/wiki/Tf–idf)."
      ],
      "cell_type": "markdown",
      "metadata": {}
    },
    {
      "source": [
        "Now that we've reached here, it will be useful to train another model. **Latent Semantic Indexing** or **LSI** model first published in [Deerwester et al. (1990): Indexint by Latent Semantic Analysis](https://www.cs.bham.ac.uk/~pxt/IDA/lsa_ind.pdf). I just know this analysis works on *singular value decomposition* method and I want to know about the model more!\n",
        "\n",
        "Let's just initiate the `gensim.models.LsiModel` object with the training corpus in Tfidf representation for train a LSI model. Some other parameters needed like the dictionary as `id2word` and `num_topics` that I just guessed to 10."
      ],
      "cell_type": "markdown",
      "metadata": {}
    },
    {
      "cell_type": "code",
      "metadata": {
        "id": "rC1O4vBB4jsx",
        "colab": {
          "base_uri": "https://localhost:8080/"
        },
        "outputId": "a4c384b8-4f18-42f1-ffb3-86a210f244e4"
      },
      "source": [
        "# train a LSI model with training corpus in tfidf\n",
        "lsi_model = models.LsiModel(train_corpus_tfidf, id2word=dictionary, num_topics=10)\n",
        "# tfidf->fold-in-lsi\n",
        "train_corpus_lsi = lsi_model[train_corpus_tfidf]"
      ],
      "execution_count": 16,
      "outputs": [
        {
          "output_type": "stream",
          "name": "stderr",
          "text": [
            "2021-04-04 05:11:52,695 : INFO : using serial LSI version on this node\n",
            "2021-04-04 05:11:52,705 : INFO : updating model with new documents\n",
            "2021-04-04 05:11:52,733 : INFO : preparing a new chunk of documents\n",
            "2021-04-04 05:11:52,747 : INFO : using 100 extra samples and 2 power iterations\n",
            "2021-04-04 05:11:52,751 : INFO : 1st phase: constructing (1613, 110) action matrix\n",
            "2021-04-04 05:11:52,768 : INFO : orthonormalizing (1613, 110) action matrix\n",
            "2021-04-04 05:11:52,856 : INFO : 2nd phase: running dense svd on (110, 104) matrix\n",
            "2021-04-04 05:11:52,868 : INFO : computing the final decomposition\n",
            "2021-04-04 05:11:52,870 : INFO : keeping 10 factors (discarding 80.171% of energy spectrum)\n",
            "2021-04-04 05:11:52,875 : INFO : processed documents up to #104\n",
            "2021-04-04 05:11:52,879 : INFO : topic #0(1.774): -0.401*\"news\" + -0.238*\"#lfc\" + -0.190*\"breaking\" + -0.173*\"will\" + -0.150*\"has\" + -0.145*\"be\" + -0.138*\"@lfc\" + -0.126*\"team\" + -0.125*\"out\" + -0.115*\"he\"\n",
            "2021-04-04 05:11:52,882 : INFO : topic #1(1.602): -0.579*\"news\" + -0.259*\"breaking\" + 0.162*\"has\" + -0.158*\"10pm\" + -0.153*\"big\" + -0.147*\"11pm\" + 0.136*\"out\" + -0.121*\"@arsenal\" + 0.110*\"team\" + -0.108*\"positive\"\n",
            "2021-04-04 05:11:52,883 : INFO : topic #2(1.470): 0.280*\"out\" + 0.242*\"#nufc\" + 0.232*\"#afc\" + 0.217*\"#thfc\" + -0.216*\"money\" + 0.198*\"😔\" + 0.197*\"has\" + -0.195*\"some\" + -0.193*\"follow\" + -0.169*\"#ad\"\n",
            "2021-04-04 05:11:52,885 : INFO : topic #3(1.438): 0.391*\"#lfc\" + -0.231*\"#nufc\" + -0.224*\"😔\" + -0.200*\"#afc\" + -0.186*\"out\" + -0.168*\"money\" + -0.166*\"follow\" + 0.154*\"team\" + -0.148*\"some\" + -0.144*\"#ad\"\n",
            "2021-04-04 05:11:52,890 : INFO : topic #4(1.395): 0.563*\"😔\" + 0.444*\"#nufc\" + 0.241*\"#lfc\" + -0.204*\"#afc\" + 0.161*\"season\" + -0.155*\"#thfc\" + -0.138*\"has\" + -0.122*\"kane\" + -0.122*\"harry\" + -0.120*\"aubameyang\"\n",
            "2021-04-04 05:11:52,892 : INFO : LsiModel lifecycle event {'msg': 'trained LsiModel(num_terms=1613, num_topics=10, decay=1.0, chunksize=20000) in 0.19s', 'datetime': '2021-04-04T05:11:52.892220', 'gensim': '4.0.1', 'python': '3.7.3 (default, Mar 27 2019, 16:54:48) \\n[Clang 4.0.1 (tags/RELEASE_401/final)]', 'platform': 'Darwin-19.6.0-x86_64-i386-64bit', 'event': 'created'}\n"
          ]
        }
      ]
    },
    {
      "source": [
        "Note that we *piplined* models as *bow->tfidf->fold-in-lsi* and wrapped them over the training corpus."
      ],
      "cell_type": "markdown",
      "metadata": {}
    },
    {
      "source": [
        "Before representing documents in fold-in-lsi representation, we print 10 topics that we ordered. I've read the topics obtained by the model and believe me, it reminded me to black days of Liverpool FC in this season :(\n",
        "\n",
        "Read these topics with *hope in your heart*:"
      ],
      "cell_type": "markdown",
      "metadata": {}
    },
    {
      "cell_type": "code",
      "metadata": {
        "id": "7C5t7o3LBGyM",
        "colab": {
          "base_uri": "https://localhost:8080/"
        },
        "outputId": "6cd1c616-f9aa-4f74-b15f-6375ccde5066"
      },
      "source": [
        "lsi_model.print_topics()"
      ],
      "execution_count": 17,
      "outputs": [
        {
          "output_type": "stream",
          "name": "stderr",
          "text": [
            "2021-04-04 05:12:28,226 : INFO : topic #0(1.774): -0.401*\"news\" + -0.238*\"#lfc\" + -0.190*\"breaking\" + -0.173*\"will\" + -0.150*\"has\" + -0.145*\"be\" + -0.138*\"@lfc\" + -0.126*\"team\" + -0.125*\"out\" + -0.115*\"he\"\n",
            "2021-04-04 05:12:28,238 : INFO : topic #1(1.602): -0.579*\"news\" + -0.259*\"breaking\" + 0.162*\"has\" + -0.158*\"10pm\" + -0.153*\"big\" + -0.147*\"11pm\" + 0.136*\"out\" + -0.121*\"@arsenal\" + 0.110*\"team\" + -0.108*\"positive\"\n",
            "2021-04-04 05:12:28,271 : INFO : topic #2(1.470): 0.280*\"out\" + 0.242*\"#nufc\" + 0.232*\"#afc\" + 0.217*\"#thfc\" + -0.216*\"money\" + 0.198*\"😔\" + 0.197*\"has\" + -0.195*\"some\" + -0.193*\"follow\" + -0.169*\"#ad\"\n",
            "2021-04-04 05:12:28,287 : INFO : topic #3(1.438): 0.391*\"#lfc\" + -0.231*\"#nufc\" + -0.224*\"😔\" + -0.200*\"#afc\" + -0.186*\"out\" + -0.168*\"money\" + -0.166*\"follow\" + 0.154*\"team\" + -0.148*\"some\" + -0.144*\"#ad\"\n",
            "2021-04-04 05:12:28,290 : INFO : topic #4(1.395): 0.563*\"😔\" + 0.444*\"#nufc\" + 0.241*\"#lfc\" + -0.204*\"#afc\" + 0.161*\"season\" + -0.155*\"#thfc\" + -0.138*\"has\" + -0.122*\"kane\" + -0.122*\"harry\" + -0.120*\"aubameyang\"\n",
            "2021-04-04 05:12:28,299 : INFO : topic #5(1.362): 0.305*\"#lfc\" + 0.256*\"#afc\" + 0.208*\"aubameyang\" + -0.192*\"😔\" + 0.190*\"same\" + 0.169*\"team\" + -0.161*\"will\" + -0.126*\"manchester\" + 0.123*\"furious\" + 0.119*\"some\"\n",
            "2021-04-04 05:12:28,305 : INFO : topic #6(1.317): 0.300*\"has\" + 0.232*\"left\" + 0.210*\"jurgen\" + 0.207*\"been\" + 0.168*\"sacked\" + 0.164*\"klopp\" + 0.163*\"@bcfc\" + -0.133*\"#lfc\" + -0.128*\"all\" + 0.127*\"@lfc\"\n",
            "2021-04-04 05:12:28,308 : INFO : topic #7(1.294): -0.380*\"😔\" + 0.221*\"out\" + 0.212*\"lamptey\" + 0.212*\"tariq\" + 0.199*\"season\" + 0.194*\"@david_ornstein\" + 0.183*\"according\" + -0.179*\"all\" + -0.115*\"enough\" + -0.111*\"#omi\"\n",
            "2021-04-04 05:12:28,312 : INFO : topic #8(1.288): 0.248*\"aubameyang\" + -0.241*\"out\" + -0.237*\"has\" + 0.235*\"#afc\" + -0.234*\"left\" + 0.213*\"👀\" + 0.191*\"klopp\" + 0.167*\"jurgen\" + 0.166*\"german\" + 0.159*\"dropped\"\n",
            "2021-04-04 05:12:28,315 : INFO : topic #9(1.271): 0.258*\"we\" + -0.202*\"manchester\" + 0.194*\"don’t\" + 0.177*\"it\" + -0.139*\"liverpool\" + -0.133*\"gunnar\" + -0.133*\"ole\" + -0.124*\"city\" + -0.123*\"united\" + 0.121*\"think\"\n"
          ]
        },
        {
          "output_type": "execute_result",
          "data": {
            "text/plain": [
              "[(0,\n",
              "  '-0.401*\"news\" + -0.238*\"#lfc\" + -0.190*\"breaking\" + -0.173*\"will\" + -0.150*\"has\" + -0.145*\"be\" + -0.138*\"@lfc\" + -0.126*\"team\" + -0.125*\"out\" + -0.115*\"he\"'),\n",
              " (1,\n",
              "  '-0.579*\"news\" + -0.259*\"breaking\" + 0.162*\"has\" + -0.158*\"10pm\" + -0.153*\"big\" + -0.147*\"11pm\" + 0.136*\"out\" + -0.121*\"@arsenal\" + 0.110*\"team\" + -0.108*\"positive\"'),\n",
              " (2,\n",
              "  '0.280*\"out\" + 0.242*\"#nufc\" + 0.232*\"#afc\" + 0.217*\"#thfc\" + -0.216*\"money\" + 0.198*\"😔\" + 0.197*\"has\" + -0.195*\"some\" + -0.193*\"follow\" + -0.169*\"#ad\"'),\n",
              " (3,\n",
              "  '0.391*\"#lfc\" + -0.231*\"#nufc\" + -0.224*\"😔\" + -0.200*\"#afc\" + -0.186*\"out\" + -0.168*\"money\" + -0.166*\"follow\" + 0.154*\"team\" + -0.148*\"some\" + -0.144*\"#ad\"'),\n",
              " (4,\n",
              "  '0.563*\"😔\" + 0.444*\"#nufc\" + 0.241*\"#lfc\" + -0.204*\"#afc\" + 0.161*\"season\" + -0.155*\"#thfc\" + -0.138*\"has\" + -0.122*\"kane\" + -0.122*\"harry\" + -0.120*\"aubameyang\"'),\n",
              " (5,\n",
              "  '0.305*\"#lfc\" + 0.256*\"#afc\" + 0.208*\"aubameyang\" + -0.192*\"😔\" + 0.190*\"same\" + 0.169*\"team\" + -0.161*\"will\" + -0.126*\"manchester\" + 0.123*\"furious\" + 0.119*\"some\"'),\n",
              " (6,\n",
              "  '0.300*\"has\" + 0.232*\"left\" + 0.210*\"jurgen\" + 0.207*\"been\" + 0.168*\"sacked\" + 0.164*\"klopp\" + 0.163*\"@bcfc\" + -0.133*\"#lfc\" + -0.128*\"all\" + 0.127*\"@lfc\"'),\n",
              " (7,\n",
              "  '-0.380*\"😔\" + 0.221*\"out\" + 0.212*\"lamptey\" + 0.212*\"tariq\" + 0.199*\"season\" + 0.194*\"@david_ornstein\" + 0.183*\"according\" + -0.179*\"all\" + -0.115*\"enough\" + -0.111*\"#omi\"'),\n",
              " (8,\n",
              "  '0.248*\"aubameyang\" + -0.241*\"out\" + -0.237*\"has\" + 0.235*\"#afc\" + -0.234*\"left\" + 0.213*\"👀\" + 0.191*\"klopp\" + 0.167*\"jurgen\" + 0.166*\"german\" + 0.159*\"dropped\"'),\n",
              " (9,\n",
              "  '0.258*\"we\" + -0.202*\"manchester\" + 0.194*\"don’t\" + 0.177*\"it\" + -0.139*\"liverpool\" + -0.133*\"gunnar\" + -0.133*\"ole\" + -0.124*\"city\" + -0.123*\"united\" + 0.121*\"think\"')]"
            ]
          },
          "metadata": {},
          "execution_count": 17
        }
      ]
    },
    {
      "source": [
        "Then print first 5 tweets representation in fold-in-lsi. Note that we have 10 topics and the representation shows the relateness of each tweets to each one of 10 topics."
      ],
      "cell_type": "markdown",
      "metadata": {}
    },
    {
      "cell_type": "code",
      "metadata": {
        "colab": {
          "base_uri": "https://localhost:8080/"
        },
        "id": "e59_on5K-1eJ",
        "outputId": "73512960-3608-4e40-dc6a-02166b5382be"
      },
      "source": [
        "for count, (tweet_lsi, tweet_text) in enumerate(zip(train_corpus_lsi, MyTexts(10))):\n",
        "    print(tweet_lsi, tweet_text, '\\n---')\n",
        "    if count == 5: break"
      ],
      "execution_count": 18,
      "outputs": [
        {
          "output_type": "stream",
          "name": "stdout",
          "text": [
            "[(0, -0.04861963696522687), (1, 0.02614180540190273), (2, -0.013537251848193124), (3, 0.0016044318514834319), (4, -0.015416615212562145), (5, -0.010980581726811846), (6, 0.05679758723532831), (7, -0.007275692716576178), (8, 0.012138058118968094), (9, -0.010483042063101715)] ['statement', 'chelsea', 'fc', 'is', 'disgusted', 'with', 'posts', 'on', 'social', 'media', 'this', 'evening', 'targeting', 'west', 'bromwich', 'albion', 'player', 'callum', 'robinson', '#cfc'] \n---\n[(0, -0.04743868296514272), (1, -0.011337340781317722), (2, 0.10406379211482553), (3, -0.08082195369033182), (4, -0.09977622606145477), (5, 0.13535018506832436), (6, -0.062217162449585695), (7, -0.015246985119146397), (8, 0.17476093308953192), (9, -0.008777367833210809)] ['david', 'luiz', 'could', 'need', 'surgery', '#afc'] \n---\n[(0, -0.17661357974789188), (1, 0.07747152742326434), (2, -0.016897596975931274), (3, 0.1562200482516766), (4, 0.04223098125836869), (5, 0.0006513178763686359), (6, -0.13132871819521363), (7, -0.08954834316097088), (8, -0.22467101678412604), (9, -0.17457097247466385)] ['confirmed', 'liverpool', 'will', 'meet', 'with', 'erling', \"haaland's\", 'representatives', 'on', 'friday', '#lfc'] \n---\n[(0, -0.11462649672077915), (1, 0.014592444115943673), (2, -0.029170329685687287), (3, -0.03516800771325117), (4, -0.07482317324894426), (5, -0.11194640350014368), (6, -0.1154643861459454), (7, -0.1754808464002354), (8, -0.014739320838251945), (9, 0.10979646538227113)] ['the', 'mind', 'blowing', 'licence', 'to', 'be', 'announced', 'by', '@ecomi_', 'well', 'played', '@vevecollectible', 'the', 'company', 'in', 'great', 'hands', '#omi'] \n---\n[(0, -0.16735730545873773), (1, 0.1158119463636804), (2, 0.16927347838582285), (3, 0.02531187685121864), (4, 0.05355467785245896), (5, 0.102515498482607), (6, -0.04982623363799239), (7, 0.10394193030055968), (8, -0.18274263717439126), (9, -0.020672534678152506)] ['sergio', 'ramos', 'set', 'to', 'be', 'out', 'for', 'a', 'month', 'due', 'to', 'injury', '#lfc'] \n---\n[(0, -0.15931987027077713), (1, 0.12374107996485756), (2, 0.06186591538342217), (3, -0.043956962245251315), (4, 0.013989085890163313), (5, -0.09022984779278999), (6, -0.0559757832215728), (7, 0.08039329897032325), (8, -0.21382077739506672), (9, 0.03195669894721369)] ['bayern', 'munich', 'have', 'confirmed', 'robert', 'lewandowski', 'will', 'be', 'out', 'for', '4', 'weeks', 'with', 'a', 'knee', 'injury.'] \n---\n"
          ]
        }
      ]
    }
  ]
}